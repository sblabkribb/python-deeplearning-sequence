{
 "cells": [
  {
   "cell_type": "code",
   "execution_count": 4,
   "metadata": {},
   "outputs": [],
   "source": [
    "import Bio\n",
    "import numpy as np"
   ]
  },
  {
   "cell_type": "code",
   "execution_count": 5,
   "metadata": {},
   "outputs": [],
   "source": [
    "x = np.array(\n",
    " [[[1, 2, 3],\n",
    " [2, 3, 4]],\n",
    " [[5, 6, 7],\n",
    " [8, 9, 10]],\n",
    " [[11, 12, 13],\n",
    " [14, 15, 16]]]\n",
    ")"
   ]
  },
  {
   "cell_type": "code",
   "execution_count": 6,
   "metadata": {},
   "outputs": [
    {
     "data": {
      "text/plain": [
       "(3, 2, 3)"
      ]
     },
     "execution_count": 6,
     "metadata": {},
     "output_type": "execute_result"
    }
   ],
   "source": [
    "x.shape"
   ]
  },
  {
   "cell_type": "code",
   "execution_count": 62,
   "metadata": {},
   "outputs": [],
   "source": [
    "my_string = \"ATACAGCGGACGTTCGAA\"\n",
    "my_array = np.array(list(my_string)) \n",
    "onehot_encode = np.zeros((len(my_array),4), dtype=int)\n",
    "base_dict = {'A':0, 'C':1, 'G':2, 'T':3}\n",
    "for i in range(len(my_array)):\n",
    " onehot_encode[i, base_dict[my_array[i]]]=1"
   ]
  },
  {
   "cell_type": "code",
   "execution_count": 66,
   "metadata": {},
   "outputs": [
    {
     "data": {
      "text/plain": [
       "[[1, 0, 0, 0],\n",
       " [0, 0, 0, 1],\n",
       " [1, 0, 0, 0],\n",
       " [0, 1, 0, 0],\n",
       " [1, 0, 0, 0],\n",
       " [0, 0, 1, 0],\n",
       " [0, 1, 0, 0],\n",
       " [0, 0, 1, 0],\n",
       " [0, 0, 1, 0],\n",
       " [1, 0, 0, 0],\n",
       " [0, 1, 0, 0],\n",
       " [0, 0, 1, 0],\n",
       " [0, 0, 0, 1],\n",
       " [0, 0, 0, 1],\n",
       " [0, 1, 0, 0],\n",
       " [0, 0, 1, 0],\n",
       " [1, 0, 0, 0],\n",
       " [1, 0, 0, 0]]"
      ]
     },
     "execution_count": 66,
     "metadata": {},
     "output_type": "execute_result"
    }
   ],
   "source": [
    "onehot_encode.tolist()"
   ]
  },
  {
   "cell_type": "code",
   "execution_count": 58,
   "metadata": {},
   "outputs": [],
   "source": [
    "from Bio import motifs\n",
    "from Bio.Seq import Seq\n",
    "instances = [Seq(\"TACAA\"), Seq(\"TACGA\"), Seq(\"TACAA\")]\n",
    "m = motifs.create(instances)\n",
    "pfm = m.counts\n",
    "pwm = m.counts.normalize(pseudocounts=0.5)"
   ]
  },
  {
   "cell_type": "code",
   "execution_count": 59,
   "metadata": {},
   "outputs": [
    {
     "data": {
      "text/plain": [
       "{'A': (0.1, 0.7, 0.1, 0.5, 0.7),\n",
       " 'C': (0.1, 0.1, 0.7, 0.1, 0.1),\n",
       " 'G': (0.1, 0.1, 0.1, 0.3, 0.1),\n",
       " 'T': (0.7, 0.1, 0.1, 0.1, 0.1)}"
      ]
     },
     "execution_count": 59,
     "metadata": {},
     "output_type": "execute_result"
    }
   ],
   "source": [
    "pwm"
   ]
  },
  {
   "cell_type": "code",
   "execution_count": 78,
   "metadata": {},
   "outputs": [
    {
     "name": "stdout",
     "output_type": "stream",
     "text": [
      "(1000, 20)\n",
      "['GATGCGGCCGGAAATTAGTC', 'AGCAGGACCGGAAAAGCAAA', 'AGCAACTCCAGATGGGGGAC', 'TGCGCTAGAGGAACGACCGT']\n"
     ]
    }
   ],
   "source": [
    "seq_length = 20\n",
    "num_sample = 1000\n",
    "motif_pwm = np.array([[10.41, 22.86, 1.92, 1.55, 98.60, 86.66],\n",
    " [68.20, 65.25, 0.50, 0.35, 0.25, 2.57],\n",
    " [17.27, 8.30, 94.77, 97.32, 0.87, 0.00],\n",
    " [4.13, 3.59, 2.81, 0.78, 0.28, 10.77]])\n",
    "pwm = np.hstack([np.ones((4,7)), motif_pwm, np.ones((4,7))])\n",
    "pos = np.array([np.random.choice(['A', 'C', 'G', 'T'],\n",
    "num_sample,\n",
    "p=pwm[:,i]/sum(pwm[:,i]))\n",
    "for i in range(seq_length)]).transpose()\n",
    "neg = np.array([np.random.choice(['A', 'C', 'G', 'T'],\n",
    "num_sample,\n",
    "p=np.array([1,1,1,1])/4)\n",
    "for i in range(seq_length)]).transpose()\n",
    "print(pos.shape)\n",
    "tmp_out = [''.join(x) for x in pos[1:5,]]\n",
    "print(tmp_out)"
   ]
  },
  {
   "cell_type": "code",
   "execution_count": 84,
   "metadata": {},
   "outputs": [
    {
     "name": "stdout",
     "output_type": "stream",
     "text": [
      "(2000, 20, 4) (2000, 2)\n"
     ]
    }
   ],
   "source": [
    "base_dict = {'A':0, 'C':1, 'G':2, 'T':3}\n",
    "onehot_encode_pos = np.zeros((num_sample, seq_length, 4))\n",
    "onehot_encode_pos_label = np.zeros((num_sample, 2), dtype=int)\n",
    "onehot_encode_pos_label[:,0] = 1\n",
    "onehot_encode_neg = np.zeros((num_sample, seq_length, 4))\n",
    "onehot_encode_neg_label = np.zeros((num_sample, 2), dtype=int)\n",
    "onehot_encode_neg_label[:,1] = 1\n",
    "for i in range(num_sample):\n",
    "    for j in range(seq_length):\n",
    "        onehot_encode_pos[i,j,base_dict[pos[i,j]]] = 1\n",
    "        onehot_encode_neg[i,j,base_dict[neg[i,j]]] = 1\n",
    "X = np.vstack((onehot_encode_pos, onehot_encode_neg))\n",
    "y = np.vstack((onehot_encode_pos_label, onehot_encode_neg_label))\n",
    "print(X.shape, y.shape)"
   ]
  },
  {
   "cell_type": "code",
   "execution_count": 87,
   "metadata": {},
   "outputs": [
    {
     "name": "stdout",
     "output_type": "stream",
     "text": [
      "(1600, 20, 4) (1600, 2)\n"
     ]
    }
   ],
   "source": [
    "from sklearn.model_selection import train_test_split\n",
    "X_train, X_test, y_train, y_test = train_test_split(\n",
    " X,\n",
    "y,\n",
    "test_size=0.2,\n",
    "random_state=125)\n",
    "print(X_train.shape, y_train.shape)"
   ]
  },
  {
   "cell_type": "code",
   "execution_count": 88,
   "metadata": {},
   "outputs": [],
   "source": [
    "import keras\n",
    "from keras.models import Sequential\n",
    "from keras.layers import Dense, Flatten\n",
    "from keras.layers import Conv1D, MaxPooling1D\n",
    "\n",
    "parameters = {\n",
    " 'num_filters': 10,\n",
    " 'kernal_size': 5,\n",
    " 'pooling_size': 4,\n",
    " 'num_classes': 2\n",
    "}\n",
    "\n",
    "def create_model(params):\n",
    "    model = Sequential()\n",
    "    model.add(\n",
    "        Conv1D(\n",
    "            filters = params['num_filters'],\n",
    "            kernel_size = params['kernal_size'],\n",
    "            activation = 'relu',\n",
    "            padding = 'same'\n",
    "        )\n",
    "    )\n",
    "\n",
    "    model.add(\n",
    "        MaxPooling1D(\n",
    "            pool_size = params['pooling_size']\n",
    "        )\n",
    "    )\n",
    "    \n",
    "    model.add(Flatten())\n",
    "    model.add(\n",
    "        Dense(\n",
    "            units = params['num_classes'],\n",
    "            activation = 'sigmoid'\n",
    "        )\n",
    "    )\n",
    "    \n",
    "    model.compile(\n",
    "        loss = 'categorical_crossentropy',\n",
    "        optimizer = 'adam',\n",
    "        metrics = ['accuracy']\n",
    "    )\n",
    "    \n",
    "    return model"
   ]
  },
  {
   "cell_type": "code",
   "execution_count": 89,
   "metadata": {},
   "outputs": [
    {
     "name": "stdout",
     "output_type": "stream",
     "text": [
      "Epoch 1/20\n",
      "15/15 [==============================] - 1s 32ms/step - loss: 0.7881 - accuracy: 0.4718 - val_loss: 0.7408 - val_accuracy: 0.4563\n",
      "Epoch 2/20\n",
      "15/15 [==============================] - 0s 4ms/step - loss: 0.7127 - accuracy: 0.4978 - val_loss: 0.7253 - val_accuracy: 0.5063\n",
      "Epoch 3/20\n",
      "15/15 [==============================] - 0s 4ms/step - loss: 0.6774 - accuracy: 0.5881 - val_loss: 0.6847 - val_accuracy: 0.5688\n",
      "Epoch 4/20\n",
      "15/15 [==============================] - 0s 4ms/step - loss: 0.6455 - accuracy: 0.6466 - val_loss: 0.6465 - val_accuracy: 0.6375\n",
      "Epoch 5/20\n",
      "15/15 [==============================] - 0s 4ms/step - loss: 0.6184 - accuracy: 0.7137 - val_loss: 0.6118 - val_accuracy: 0.7125\n",
      "Epoch 6/20\n",
      "15/15 [==============================] - 0s 4ms/step - loss: 0.5837 - accuracy: 0.7632 - val_loss: 0.5749 - val_accuracy: 0.7750\n",
      "Epoch 7/20\n",
      "15/15 [==============================] - 0s 5ms/step - loss: 0.5330 - accuracy: 0.8343 - val_loss: 0.5344 - val_accuracy: 0.8250\n",
      "Epoch 8/20\n",
      "15/15 [==============================] - 0s 5ms/step - loss: 0.4970 - accuracy: 0.8566 - val_loss: 0.4894 - val_accuracy: 0.8625\n",
      "Epoch 9/20\n",
      "15/15 [==============================] - 0s 5ms/step - loss: 0.4667 - accuracy: 0.8812 - val_loss: 0.4472 - val_accuracy: 0.8875\n",
      "Epoch 10/20\n",
      "15/15 [==============================] - 0s 4ms/step - loss: 0.4290 - accuracy: 0.8955 - val_loss: 0.4044 - val_accuracy: 0.9062\n",
      "Epoch 11/20\n",
      "15/15 [==============================] - 0s 4ms/step - loss: 0.3858 - accuracy: 0.9114 - val_loss: 0.3682 - val_accuracy: 0.9125\n",
      "Epoch 12/20\n",
      "15/15 [==============================] - 0s 4ms/step - loss: 0.3421 - accuracy: 0.9274 - val_loss: 0.3339 - val_accuracy: 0.9187\n",
      "Epoch 13/20\n",
      "15/15 [==============================] - 0s 4ms/step - loss: 0.3231 - accuracy: 0.9222 - val_loss: 0.3026 - val_accuracy: 0.9312\n",
      "Epoch 14/20\n",
      "15/15 [==============================] - 0s 5ms/step - loss: 0.2870 - accuracy: 0.9384 - val_loss: 0.2749 - val_accuracy: 0.9375\n",
      "Epoch 15/20\n",
      "15/15 [==============================] - 0s 5ms/step - loss: 0.2635 - accuracy: 0.9353 - val_loss: 0.2517 - val_accuracy: 0.9375\n",
      "Epoch 16/20\n",
      "15/15 [==============================] - 0s 5ms/step - loss: 0.2511 - accuracy: 0.9381 - val_loss: 0.2316 - val_accuracy: 0.9500\n",
      "Epoch 17/20\n",
      "15/15 [==============================] - 0s 5ms/step - loss: 0.2391 - accuracy: 0.9373 - val_loss: 0.2155 - val_accuracy: 0.9500\n",
      "Epoch 18/20\n",
      "15/15 [==============================] - 0s 5ms/step - loss: 0.2146 - accuracy: 0.9461 - val_loss: 0.1983 - val_accuracy: 0.9625\n",
      "Epoch 19/20\n",
      "15/15 [==============================] - 0s 4ms/step - loss: 0.1953 - accuracy: 0.9470 - val_loss: 0.1857 - val_accuracy: 0.9625\n",
      "Epoch 20/20\n",
      "15/15 [==============================] - 0s 4ms/step - loss: 0.1942 - accuracy: 0.9446 - val_loss: 0.1737 - val_accuracy: 0.9625\n"
     ]
    }
   ],
   "source": [
    "model = create_model(parameters)\n",
    "history = model.fit(\n",
    " X_train,\n",
    " y_train,\n",
    " batch_size=100,\n",
    " epochs=20,\n",
    " validation_split=0.1\n",
    ") "
   ]
  },
  {
   "cell_type": "code",
   "execution_count": 90,
   "metadata": {},
   "outputs": [
    {
     "data": {
      "image/png": "[encoded data removed]",
      "text/plain": [
       "<Figure size 432x288 with 1 Axes>"
      ]
     },
     "metadata": {
      "needs_background": "light"
     },
     "output_type": "display_data"
    }
   ],
   "source": [
    "import matplotlib.pyplot as plt\n",
    "plt.figure()\n",
    "plt.plot(history.history['val_loss'])\n",
    "plt.plot(history.history['val_accuracy'])\n",
    "plt.title('valid accuracy and valid loss')\n",
    "plt.ylabel('val accuracy and val loss')\n",
    "plt.xlabel('epoch')\n",
    "plt.legend(['valid loss', 'valid accuracy'])\n",
    "plt.show()"
   ]
  },
  {
   "cell_type": "code",
   "execution_count": null,
   "metadata": {},
   "outputs": [],
   "source": []
  }
 ],
 "metadata": {
  "kernelspec": {
   "display_name": "Python 3",
   "language": "python",
   "name": "python3"
  },
  "language_info": {
   "codemirror_mode": {
    "name": "ipython",
    "version": 3
   },
   "file_extension": ".py",
   "mimetype": "text/x-python",
   "name": "python",
   "nbconvert_exporter": "python",
   "pygments_lexer": "ipython3",
   "version": "3.6.9"
  }
 },
 "nbformat": 4,
 "nbformat_minor": 4
}
