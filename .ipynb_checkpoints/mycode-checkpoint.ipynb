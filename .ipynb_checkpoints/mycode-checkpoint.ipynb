{
 "cells": [
  {
   "cell_type": "code",
   "execution_count": 1,
   "metadata": {},
   "outputs": [],
   "source": [
    "import pandas as pd\n",
    "import numpy as np\n",
    "import scipy\n",
    "import scipy.stats\n",
    "from keras.models import Sequential\n",
    "from keras.layers.core import Dense, Activation, Flatten, Dropout\n",
    "from keras.layers.convolutional import Convolution2D\n",
    "from keras.optimizers import Adam\n",
    "\n",
    "from hyperopt import fmin, tpe, hp, STATUS_OK, Trials\n",
    "import os\n",
    "import keras\n",
    "import theano\n",
    "import random\n",
    "import pickle\n",
    "\n",
    "import seaborn as sns\n",
    "import matplotlib.pyplot as plt\n",
    "%matplotlib inline"
   ]
  },
  {
   "cell_type": "code",
   "execution_count": 2,
   "metadata": {},
   "outputs": [],
   "source": [
    "data_dir = \"./Data/\"\n",
    "results_dir = \"./Results/\"\n",
    "figures_dir = \"./Figures/\"\n",
    "model_name = \"Random_UTR_CNN\"\n",
    "model_params_dir = \"./Results/{0}.Hyperparam.Opt/\".format(model_name)\n",
    "\n",
    "if not os.path.exists(data_dir):\n",
    "    os.mkdir(data_dir)\n",
    "\n",
    "if not os.path.exists(data_dir):\n",
    "    os.mkdir(data_dir)\n",
    "\n",
    "if not os.path.exists(data_dir):\n",
    "    os.mkdir(data_dir)\n",
    "\n",
    "if not os.path.exists(data_dir):\n",
    "    os.mkdir(data_dir)"
   ]
  },
  {
   "cell_type": "code",
   "execution_count": 3,
   "metadata": {},
   "outputs": [],
   "source": [
    "data = pd.read_csv(data_dir + 'Random_UTRs.csv')"
   ]
  },
  {
   "cell_type": "code",
   "execution_count": 4,
   "metadata": {},
   "outputs": [
    {
     "data": {
      "text/html": [
       "<div>\n",
       "<style scoped>\n",
       "    .dataframe tbody tr th:only-of-type {\n",
       "        vertical-align: middle;\n",
       "    }\n",
       "\n",
       "    .dataframe tbody tr th {\n",
       "        vertical-align: top;\n",
       "    }\n",
       "\n",
       "    .dataframe thead th {\n",
       "        text-align: right;\n",
       "    }\n",
       "</style>\n",
       "<table border=\"1\" class=\"dataframe\">\n",
       "  <thead>\n",
       "    <tr style=\"text-align: right;\">\n",
       "      <th></th>\n",
       "      <th>Unnamed: 0</th>\n",
       "      <th>UTR</th>\n",
       "      <th>growth_rate</th>\n",
       "      <th>t0</th>\n",
       "      <th>t1</th>\n",
       "    </tr>\n",
       "  </thead>\n",
       "  <tbody>\n",
       "    <tr>\n",
       "      <th>0</th>\n",
       "      <td>0</td>\n",
       "      <td>AAAAAAAAAACATAATAACGATGATCAGTTAAAATCATAGTCTAAG...</td>\n",
       "      <td>-1.237065</td>\n",
       "      <td>14</td>\n",
       "      <td>3</td>\n",
       "    </tr>\n",
       "    <tr>\n",
       "      <th>1</th>\n",
       "      <td>1</td>\n",
       "      <td>AAAAAAAAAAGACTACAACAGATTGTAGTGGCGGACCAGTGTGCCT...</td>\n",
       "      <td>1.288663</td>\n",
       "      <td>14</td>\n",
       "      <td>49</td>\n",
       "    </tr>\n",
       "    <tr>\n",
       "      <th>2</th>\n",
       "      <td>2</td>\n",
       "      <td>AAAAAAAAAATATGGGGCCCTGTTCCAAAGATACCTCAATTTCATA...</td>\n",
       "      <td>-0.608457</td>\n",
       "      <td>13</td>\n",
       "      <td>6</td>\n",
       "    </tr>\n",
       "    <tr>\n",
       "      <th>3</th>\n",
       "      <td>3</td>\n",
       "      <td>AAAAAAAAAATCTCTGGCCCGATTATACTGGAGCTAATGTAAAATT...</td>\n",
       "      <td>-1.093964</td>\n",
       "      <td>12</td>\n",
       "      <td>3</td>\n",
       "    </tr>\n",
       "    <tr>\n",
       "      <th>4</th>\n",
       "      <td>4</td>\n",
       "      <td>AAAAAAAAACATAAATATGAAGGCCTGACATTATAAATAACTTACC...</td>\n",
       "      <td>-0.048841</td>\n",
       "      <td>7</td>\n",
       "      <td>6</td>\n",
       "    </tr>\n",
       "    <tr>\n",
       "      <th>5</th>\n",
       "      <td>5</td>\n",
       "      <td>AAAAAAAAACGAAATCAAACAAGAGAAAAACTGCATAGTTCACTTA...</td>\n",
       "      <td>0.822290</td>\n",
       "      <td>10</td>\n",
       "      <td>22</td>\n",
       "    </tr>\n",
       "    <tr>\n",
       "      <th>6</th>\n",
       "      <td>6</td>\n",
       "      <td>AAAAAAAAACGAATGAACGAGTAACAAAGGACCCCTAATAACTCGA...</td>\n",
       "      <td>-1.013922</td>\n",
       "      <td>2</td>\n",
       "      <td>0</td>\n",
       "    </tr>\n",
       "    <tr>\n",
       "      <th>7</th>\n",
       "      <td>7</td>\n",
       "      <td>AAAAAAAAACGGCAAACATAAGTAAGCGCTAAAACCTTTTATTGAA...</td>\n",
       "      <td>-0.104551</td>\n",
       "      <td>28</td>\n",
       "      <td>23</td>\n",
       "    </tr>\n",
       "    <tr>\n",
       "      <th>8</th>\n",
       "      <td>8</td>\n",
       "      <td>AAAAAAAAACGTTGCTATTATACCGAAGTCGCCCTAAAGCGTCCCT...</td>\n",
       "      <td>0.994061</td>\n",
       "      <td>57</td>\n",
       "      <td>143</td>\n",
       "    </tr>\n",
       "    <tr>\n",
       "      <th>9</th>\n",
       "      <td>9</td>\n",
       "      <td>AAAAAAAAACTAATTCTGGAGCGACAAGTTTATACCCCATATTTTC...</td>\n",
       "      <td>-0.113760</td>\n",
       "      <td>49</td>\n",
       "      <td>40</td>\n",
       "    </tr>\n",
       "    <tr>\n",
       "      <th>10</th>\n",
       "      <td>10</td>\n",
       "      <td>AAAAAAAAACTCTGGTCGATCGAAGCTTTTTACTCGTCAACCACAA...</td>\n",
       "      <td>1.470985</td>\n",
       "      <td>27</td>\n",
       "      <td>111</td>\n",
       "    </tr>\n",
       "    <tr>\n",
       "      <th>11</th>\n",
       "      <td>11</td>\n",
       "      <td>AAAAAAAAACTTGCATCCTACTGGAGGGTTAGGTACTAGACTTCTG...</td>\n",
       "      <td>0.185787</td>\n",
       "      <td>46</td>\n",
       "      <td>51</td>\n",
       "    </tr>\n",
       "    <tr>\n",
       "      <th>12</th>\n",
       "      <td>12</td>\n",
       "      <td>AAAAAAAAATACGATGTGCCATACTAGATCGAAATTTGAACATGGA...</td>\n",
       "      <td>-1.206294</td>\n",
       "      <td>39</td>\n",
       "      <td>10</td>\n",
       "    </tr>\n",
       "    <tr>\n",
       "      <th>13</th>\n",
       "      <td>13</td>\n",
       "      <td>AAAAAAAAATATTTTCACTTTACTCGAGGACAATTATTCAACTGCC...</td>\n",
       "      <td>1.293002</td>\n",
       "      <td>22</td>\n",
       "      <td>76</td>\n",
       "    </tr>\n",
       "    <tr>\n",
       "      <th>14</th>\n",
       "      <td>14</td>\n",
       "      <td>AAAAAAAAATCGTGCTGCCCAGATCTAGAGCAGTCCCTGTTGCCAT...</td>\n",
       "      <td>-3.093363</td>\n",
       "      <td>23</td>\n",
       "      <td>0</td>\n",
       "    </tr>\n",
       "    <tr>\n",
       "      <th>15</th>\n",
       "      <td>15</td>\n",
       "      <td>AAAAAAAACACAGTCCAGTCGAACACCATTCATCTAGGCGTTCATC...</td>\n",
       "      <td>1.460833</td>\n",
       "      <td>98</td>\n",
       "      <td>391</td>\n",
       "    </tr>\n",
       "    <tr>\n",
       "      <th>16</th>\n",
       "      <td>16</td>\n",
       "      <td>AAAAAAAACATACAATTCCTAGAAGTCAAGAGATGGAGTTATAGCC...</td>\n",
       "      <td>-1.861220</td>\n",
       "      <td>55</td>\n",
       "      <td>7</td>\n",
       "    </tr>\n",
       "    <tr>\n",
       "      <th>17</th>\n",
       "      <td>17</td>\n",
       "      <td>AAAAAAAACGACATAACGGTTCAGGCGAAGACAAATCATTACCGCA...</td>\n",
       "      <td>0.025850</td>\n",
       "      <td>69</td>\n",
       "      <td>65</td>\n",
       "    </tr>\n",
       "    <tr>\n",
       "      <th>18</th>\n",
       "      <td>18</td>\n",
       "      <td>AAAAAAAACGGGCGAGCCCGAGGAAGCGGCTTTTAATGAATATCTC...</td>\n",
       "      <td>0.971994</td>\n",
       "      <td>13</td>\n",
       "      <td>33</td>\n",
       "    </tr>\n",
       "    <tr>\n",
       "      <th>19</th>\n",
       "      <td>19</td>\n",
       "      <td>AAAAAAAACGTAGATCGACCATGCTTTATCGTGCGGCTCTGAAATT...</td>\n",
       "      <td>-0.080824</td>\n",
       "      <td>58</td>\n",
       "      <td>49</td>\n",
       "    </tr>\n",
       "  </tbody>\n",
       "</table>\n",
       "</div>"
      ],
      "text/plain": [
       "    Unnamed: 0                                                UTR  \\\n",
       "0            0  AAAAAAAAAACATAATAACGATGATCAGTTAAAATCATAGTCTAAG...   \n",
       "1            1  AAAAAAAAAAGACTACAACAGATTGTAGTGGCGGACCAGTGTGCCT...   \n",
       "2            2  AAAAAAAAAATATGGGGCCCTGTTCCAAAGATACCTCAATTTCATA...   \n",
       "3            3  AAAAAAAAAATCTCTGGCCCGATTATACTGGAGCTAATGTAAAATT...   \n",
       "4            4  AAAAAAAAACATAAATATGAAGGCCTGACATTATAAATAACTTACC...   \n",
       "5            5  AAAAAAAAACGAAATCAAACAAGAGAAAAACTGCATAGTTCACTTA...   \n",
       "6            6  AAAAAAAAACGAATGAACGAGTAACAAAGGACCCCTAATAACTCGA...   \n",
       "7            7  AAAAAAAAACGGCAAACATAAGTAAGCGCTAAAACCTTTTATTGAA...   \n",
       "8            8  AAAAAAAAACGTTGCTATTATACCGAAGTCGCCCTAAAGCGTCCCT...   \n",
       "9            9  AAAAAAAAACTAATTCTGGAGCGACAAGTTTATACCCCATATTTTC...   \n",
       "10          10  AAAAAAAAACTCTGGTCGATCGAAGCTTTTTACTCGTCAACCACAA...   \n",
       "11          11  AAAAAAAAACTTGCATCCTACTGGAGGGTTAGGTACTAGACTTCTG...   \n",
       "12          12  AAAAAAAAATACGATGTGCCATACTAGATCGAAATTTGAACATGGA...   \n",
       "13          13  AAAAAAAAATATTTTCACTTTACTCGAGGACAATTATTCAACTGCC...   \n",
       "14          14  AAAAAAAAATCGTGCTGCCCAGATCTAGAGCAGTCCCTGTTGCCAT...   \n",
       "15          15  AAAAAAAACACAGTCCAGTCGAACACCATTCATCTAGGCGTTCATC...   \n",
       "16          16  AAAAAAAACATACAATTCCTAGAAGTCAAGAGATGGAGTTATAGCC...   \n",
       "17          17  AAAAAAAACGACATAACGGTTCAGGCGAAGACAAATCATTACCGCA...   \n",
       "18          18  AAAAAAAACGGGCGAGCCCGAGGAAGCGGCTTTTAATGAATATCTC...   \n",
       "19          19  AAAAAAAACGTAGATCGACCATGCTTTATCGTGCGGCTCTGAAATT...   \n",
       "\n",
       "    growth_rate  t0   t1  \n",
       "0     -1.237065  14    3  \n",
       "1      1.288663  14   49  \n",
       "2     -0.608457  13    6  \n",
       "3     -1.093964  12    3  \n",
       "4     -0.048841   7    6  \n",
       "5      0.822290  10   22  \n",
       "6     -1.013922   2    0  \n",
       "7     -0.104551  28   23  \n",
       "8      0.994061  57  143  \n",
       "9     -0.113760  49   40  \n",
       "10     1.470985  27  111  \n",
       "11     0.185787  46   51  \n",
       "12    -1.206294  39   10  \n",
       "13     1.293002  22   76  \n",
       "14    -3.093363  23    0  \n",
       "15     1.460833  98  391  \n",
       "16    -1.861220  55    7  \n",
       "17     0.025850  69   65  \n",
       "18     0.971994  13   33  \n",
       "19    -0.080824  58   49  "
      ]
     },
     "execution_count": 4,
     "metadata": {},
     "output_type": "execute_result"
    }
   ],
   "source": [
    "data[:20]"
   ]
  },
  {
   "cell_type": "code",
   "execution_count": 5,
   "metadata": {},
   "outputs": [
    {
     "data": {
      "text/plain": [
       "pandas.core.frame.DataFrame"
      ]
     },
     "execution_count": 5,
     "metadata": {},
     "output_type": "execute_result"
    }
   ],
   "source": [
    "type(data)"
   ]
  },
  {
   "cell_type": "code",
   "execution_count": 6,
   "metadata": {},
   "outputs": [],
   "source": [
    "df = data\n",
    "def one_hot_encoding(df, seq_column, expression):\n",
    "\n",
    "    seq_column = \"UTR\"\n",
    "    #def one_hot_encoding(df, seq_column, expression):\n",
    "    bases = ['A', 'C', 'G', 'T']\n",
    "    base_dict = dict(zip(bases, range(4)))\n",
    "\n",
    "    n = len(df)\n",
    "    total_width = df[seq_column].str.len().max() + 20\n",
    "    X = np.zeros((n, 1, 4, total_width))\n",
    "    seqs = df[seq_column].values\n",
    "\n",
    "    for i in range(n):\n",
    "        seq = seqs[i]\n",
    "        for b in range(len(seq)):\n",
    "            X[i, 0, base_dict[seq[b]], int(b + round((total_width - len(seq))/2.))] = 1.\n",
    "        if(i%10000)==0:\n",
    "            print(i, end=\" \")\n",
    "\n",
    "    #X = X.astype(theano.config.flatX)\n",
    "    #Y = np.asarray(df[expression].values, \n",
    "    #              dtype=theano.config.floatX)[:, np.newaxis]\n",
    "    Y = np.asarray(df[expression].values)[:,np.newaxis] \n",
    "    return X, Y, total_width\n"
   ]
  },
  {
   "cell_type": "code",
   "execution_count": 7,
   "metadata": {},
   "outputs": [
    {
     "data": {
      "text/html": [
       "<div>\n",
       "<style scoped>\n",
       "    .dataframe tbody tr th:only-of-type {\n",
       "        vertical-align: middle;\n",
       "    }\n",
       "\n",
       "    .dataframe tbody tr th {\n",
       "        vertical-align: top;\n",
       "    }\n",
       "\n",
       "    .dataframe thead th {\n",
       "        text-align: right;\n",
       "    }\n",
       "</style>\n",
       "<table border=\"1\" class=\"dataframe\">\n",
       "  <thead>\n",
       "    <tr style=\"text-align: right;\">\n",
       "      <th></th>\n",
       "      <th>Unnamed: 0</th>\n",
       "      <th>UTR</th>\n",
       "      <th>growth_rate</th>\n",
       "      <th>t0</th>\n",
       "      <th>t1</th>\n",
       "    </tr>\n",
       "  </thead>\n",
       "  <tbody>\n",
       "    <tr>\n",
       "      <th>0</th>\n",
       "      <td>0</td>\n",
       "      <td>AAAAAAAAAACATAATAACGATGATCAGTTAAAATCATAGTCTAAG...</td>\n",
       "      <td>-1.237065</td>\n",
       "      <td>14</td>\n",
       "      <td>3</td>\n",
       "    </tr>\n",
       "    <tr>\n",
       "      <th>1</th>\n",
       "      <td>1</td>\n",
       "      <td>AAAAAAAAAAGACTACAACAGATTGTAGTGGCGGACCAGTGTGCCT...</td>\n",
       "      <td>1.288663</td>\n",
       "      <td>14</td>\n",
       "      <td>49</td>\n",
       "    </tr>\n",
       "    <tr>\n",
       "      <th>2</th>\n",
       "      <td>2</td>\n",
       "      <td>AAAAAAAAAATATGGGGCCCTGTTCCAAAGATACCTCAATTTCATA...</td>\n",
       "      <td>-0.608457</td>\n",
       "      <td>13</td>\n",
       "      <td>6</td>\n",
       "    </tr>\n",
       "    <tr>\n",
       "      <th>3</th>\n",
       "      <td>3</td>\n",
       "      <td>AAAAAAAAAATCTCTGGCCCGATTATACTGGAGCTAATGTAAAATT...</td>\n",
       "      <td>-1.093964</td>\n",
       "      <td>12</td>\n",
       "      <td>3</td>\n",
       "    </tr>\n",
       "    <tr>\n",
       "      <th>4</th>\n",
       "      <td>4</td>\n",
       "      <td>AAAAAAAAACATAAATATGAAGGCCTGACATTATAAATAACTTACC...</td>\n",
       "      <td>-0.048841</td>\n",
       "      <td>7</td>\n",
       "      <td>6</td>\n",
       "    </tr>\n",
       "    <tr>\n",
       "      <th>...</th>\n",
       "      <td>...</td>\n",
       "      <td>...</td>\n",
       "      <td>...</td>\n",
       "      <td>...</td>\n",
       "      <td>...</td>\n",
       "    </tr>\n",
       "    <tr>\n",
       "      <th>489343</th>\n",
       "      <td>489343</td>\n",
       "      <td>TTTTTTTGTTCCGAAGAGACCACTCAAACGTGAGCACGGCCAGACA...</td>\n",
       "      <td>1.380601</td>\n",
       "      <td>80</td>\n",
       "      <td>295</td>\n",
       "    </tr>\n",
       "    <tr>\n",
       "      <th>489344</th>\n",
       "      <td>489344</td>\n",
       "      <td>TTTTTTTGTTCTCTCTTCAAAATCAGTCACCCCCAGTGCGTGCACT...</td>\n",
       "      <td>0.796187</td>\n",
       "      <td>26</td>\n",
       "      <td>54</td>\n",
       "    </tr>\n",
       "    <tr>\n",
       "      <th>489345</th>\n",
       "      <td>489345</td>\n",
       "      <td>TTTTTTTTACAACCAGAGGATAGATTTAAGACGTCCGTCAGACCCG...</td>\n",
       "      <td>0.731318</td>\n",
       "      <td>10</td>\n",
       "      <td>20</td>\n",
       "    </tr>\n",
       "    <tr>\n",
       "      <th>489346</th>\n",
       "      <td>489346</td>\n",
       "      <td>TTTTTTTTATAGCTGGTTGGTACCCCTGTATGGTCTTCCGACACGG...</td>\n",
       "      <td>-0.944929</td>\n",
       "      <td>13</td>\n",
       "      <td>4</td>\n",
       "    </tr>\n",
       "    <tr>\n",
       "      <th>489347</th>\n",
       "      <td>489347</td>\n",
       "      <td>TTTTTTTTCGGCATTTATGTAAGTGAGCTTGCGAAGACAAGCTACA...</td>\n",
       "      <td>-2.112534</td>\n",
       "      <td>8</td>\n",
       "      <td>0</td>\n",
       "    </tr>\n",
       "  </tbody>\n",
       "</table>\n",
       "<p>489348 rows × 5 columns</p>\n",
       "</div>"
      ],
      "text/plain": [
       "        Unnamed: 0                                                UTR  \\\n",
       "0                0  AAAAAAAAAACATAATAACGATGATCAGTTAAAATCATAGTCTAAG...   \n",
       "1                1  AAAAAAAAAAGACTACAACAGATTGTAGTGGCGGACCAGTGTGCCT...   \n",
       "2                2  AAAAAAAAAATATGGGGCCCTGTTCCAAAGATACCTCAATTTCATA...   \n",
       "3                3  AAAAAAAAAATCTCTGGCCCGATTATACTGGAGCTAATGTAAAATT...   \n",
       "4                4  AAAAAAAAACATAAATATGAAGGCCTGACATTATAAATAACTTACC...   \n",
       "...            ...                                                ...   \n",
       "489343      489343  TTTTTTTGTTCCGAAGAGACCACTCAAACGTGAGCACGGCCAGACA...   \n",
       "489344      489344  TTTTTTTGTTCTCTCTTCAAAATCAGTCACCCCCAGTGCGTGCACT...   \n",
       "489345      489345  TTTTTTTTACAACCAGAGGATAGATTTAAGACGTCCGTCAGACCCG...   \n",
       "489346      489346  TTTTTTTTATAGCTGGTTGGTACCCCTGTATGGTCTTCCGACACGG...   \n",
       "489347      489347  TTTTTTTTCGGCATTTATGTAAGTGAGCTTGCGAAGACAAGCTACA...   \n",
       "\n",
       "        growth_rate  t0   t1  \n",
       "0         -1.237065  14    3  \n",
       "1          1.288663  14   49  \n",
       "2         -0.608457  13    6  \n",
       "3         -1.093964  12    3  \n",
       "4         -0.048841   7    6  \n",
       "...             ...  ..  ...  \n",
       "489343     1.380601  80  295  \n",
       "489344     0.796187  26   54  \n",
       "489345     0.731318  10   20  \n",
       "489346    -0.944929  13    4  \n",
       "489347    -2.112534   8    0  \n",
       "\n",
       "[489348 rows x 5 columns]"
      ]
     },
     "execution_count": 7,
     "metadata": {},
     "output_type": "execute_result"
    }
   ],
   "source": [
    "data"
   ]
  },
  {
   "cell_type": "code",
   "execution_count": 8,
   "metadata": {},
   "outputs": [
    {
     "name": "stdout",
     "output_type": "stream",
     "text": [
      "0 "
     ]
    }
   ],
   "source": [
    "X, Y, total_width = one_hot_encoding(data[:20], \"UTR\", \"growth_rate\")"
   ]
  },
  {
   "cell_type": "code",
   "execution_count": 9,
   "metadata": {},
   "outputs": [
    {
     "data": {
      "text/plain": [
       "array([[0., 1., 0., 1., 1.],\n",
       "       [1., 0., 0., 0., 0.],\n",
       "       [0., 0., 0., 0., 0.],\n",
       "       [0., 0., 1., 0., 0.]])"
      ]
     },
     "execution_count": 9,
     "metadata": {},
     "output_type": "execute_result"
    }
   ],
   "source": [
    "X[0,0,:,20:25]"
   ]
  },
  {
   "cell_type": "code",
   "execution_count": 10,
   "metadata": {},
   "outputs": [
    {
     "data": {
      "text/plain": [
       "'AAAAAAAAAACATAATAACGATGATCAGTTAAAATCATAGTCTAAGCCAT'"
      ]
     },
     "execution_count": 10,
     "metadata": {},
     "output_type": "execute_result"
    }
   ],
   "source": [
    "data[\"UTR\"][0][0:200]"
   ]
  },
  {
   "cell_type": "code",
   "execution_count": 11,
   "metadata": {},
   "outputs": [
    {
     "data": {
      "text/plain": [
       "50"
      ]
     },
     "execution_count": 11,
     "metadata": {},
     "output_type": "execute_result"
    }
   ],
   "source": [
    "len(data[\"UTR\"][0])"
   ]
  },
  {
   "cell_type": "code",
   "execution_count": 12,
   "metadata": {},
   "outputs": [
    {
     "name": "stdout",
     "output_type": "stream",
     "text": [
      "(1000, 20)\n",
      "['CATCCAAGCGGAAGTTCCTA', 'TGTAGGGCCGGAATGGGAGA', 'GTCATCACAGGATAAACGGT', 'ATATCGACAGGAACCGCTCC']\n"
     ]
    }
   ],
   "source": [
    "seq_length = 20\n",
    "num_sample = 1000\n",
    "\n",
    "motif_pwm = np.array([[10.41, 22.86, 1.92, 1.55, 98.60, 86.66],\n",
    "                  [68.20, 65.25, 0.50, 0.35, 0.25, 2.57],\n",
    "                  [17.27, 8.30, 94.77, 97.32, 0.87, 0.00],\n",
    "                  [4.13, 3.59, 2.81, 0.78, 0.28, 10.77]])\n",
    "\n",
    "pwm = np.hstack([np.ones((4,7)), motif_pwm, np.ones((4,7))])\n",
    "pos = np.array([np.random.choice(['A', 'C', 'G', 'T'], num_sample, \n",
    "                                p=pwm[:,i]/sum(pwm[:,i])) for i in range(seq_length)]).transpose()\n",
    "neg = np.array([np.random.choice(['A', 'C', 'G', 'T'], num_sample, \n",
    "                                p=np.array([1,1,1,1])/4) for i in range(seq_length)]).transpose()\n",
    "print(pos.shape)\n",
    "tmp_out = [''.join(x) for x in pos[1:5,]]\n",
    "print(tmp_out)"
   ]
  },
  {
   "cell_type": "code",
   "execution_count": 13,
   "metadata": {},
   "outputs": [
    {
     "data": {
      "text/plain": [
       "[array(['C', 'A', 'T', 'C', 'C', 'A', 'A', 'G', 'C', 'G', 'G', 'A', 'A',\n",
       "        'G', 'T', 'T', 'C', 'C', 'T', 'A'], dtype='<U1'),\n",
       " array(['T', 'G', 'T', 'A', 'G', 'G', 'G', 'C', 'C', 'G', 'G', 'A', 'A',\n",
       "        'T', 'G', 'G', 'G', 'A', 'G', 'A'], dtype='<U1'),\n",
       " array(['G', 'T', 'C', 'A', 'T', 'C', 'A', 'C', 'A', 'G', 'G', 'A', 'T',\n",
       "        'A', 'A', 'A', 'C', 'G', 'G', 'T'], dtype='<U1'),\n",
       " array(['A', 'T', 'A', 'T', 'C', 'G', 'A', 'C', 'A', 'G', 'G', 'A', 'A',\n",
       "        'C', 'C', 'G', 'C', 'T', 'C', 'C'], dtype='<U1')]"
      ]
     },
     "execution_count": 13,
     "metadata": {},
     "output_type": "execute_result"
    }
   ],
   "source": [
    "[x for x in pos[1:5,]]"
   ]
  },
  {
   "cell_type": "code",
   "execution_count": 14,
   "metadata": {},
   "outputs": [
    {
     "name": "stdout",
     "output_type": "stream",
     "text": [
      "(2000, 20, 4) (2000, 2)\n"
     ]
    }
   ],
   "source": [
    "base_dict  = {'A':0, 'C':1, 'G':2, 'T':3}\n",
    "onehot_encode_pos = np.zeros((num_sample, seq_length, 4))\n",
    "onehot_encode_pos_label = np.zeros((num_sample, 2), dtype=int)\n",
    "onehot_encode_pos_label[:,0] = 1\n",
    "onehot_encode_neg = np.zeros((num_sample, seq_length, 4))\n",
    "onehot_encode_neg_label = np.zeros((num_sample, 2), dtype=int)\n",
    "onehot_encode_neg_label[:,1] = 1\n",
    "for i in range(num_sample):\n",
    "    for j in range(seq_length):\n",
    "        onehot_encode_pos[i,j,base_dict[pos[i,j]]] = 1 \n",
    "        onehot_encode_neg[i,j,base_dict[neg[i,j]]] = 1\n",
    "X = np.vstack((onehot_encode_pos, onehot_encode_neg))\n",
    "y = np.vstack((onehot_encode_pos_label, onehot_encode_neg_label))\n",
    "print(X.shape, y.shape)\n"
   ]
  },
  {
   "cell_type": "code",
   "execution_count": 15,
   "metadata": {},
   "outputs": [
    {
     "name": "stdout",
     "output_type": "stream",
     "text": [
      "(1600, 20, 4) (1600, 2)\n"
     ]
    }
   ],
   "source": [
    "from sklearn.model_selection import train_test_split\n",
    "X_train, X_test, y_train, y_test = train_test_split(\n",
    "                                    X, \n",
    "                                    y, \n",
    "                                    test_size=0.2, \n",
    "                                    random_state=125)\n",
    "print(X_train.shape, y_train.shape)"
   ]
  },
  {
   "cell_type": "code",
   "execution_count": 43,
   "metadata": {},
   "outputs": [],
   "source": [
    "import keras\n",
    "from keras.models import Sequential\n",
    "from keras.layers import Dense, Flatten\n",
    "from keras.layers import Conv1D, MaxPooling1D\n",
    "\n",
    "parameters = {\n",
    "    'num_filters': 10, \n",
    "    'kernal_size': 5,\n",
    "    'pooling_size': 4,\n",
    "    'num_classes': 2\n",
    "}\n",
    "\n",
    "def create_model(params):\n",
    "    model = Sequential()\n",
    "    model.add(\n",
    "        Conv1D(\n",
    "            filters = params['num_filters'],\n",
    "            kernel_size = params['kernal_size'],\n",
    "            activation = 'relu',\n",
    "            padding = 'same'\n",
    "        )\n",
    "    )\n",
    "    \n",
    "    model.add(\n",
    "        MaxPooling1D(\n",
    "            pool_size = params['pooling_size']\n",
    "        )\n",
    "    )\n",
    "    \n",
    "    model.add(Flatten())\n",
    "    model.add(\n",
    "        Dense(\n",
    "            units = params['num_classes'],\n",
    "            activation = 'sigmoid'\n",
    "        )\n",
    "    )\n",
    "    \n",
    "    model.compile(\n",
    "        loss = 'categorical_crossentropy',\n",
    "        optimizer = 'adam',\n",
    "        metrics = ['accuracy']\n",
    "    )\n",
    "    \n",
    "    return model\n"
   ]
  },
  {
   "cell_type": "code",
   "execution_count": 47,
   "metadata": {},
   "outputs": [
    {
     "name": "stdout",
     "output_type": "stream",
     "text": [
      "Epoch 1/50\n",
      "15/15 [==============================] - 1s 19ms/step - loss: 0.7651 - accuracy: 0.4022 - val_loss: 0.7277 - val_accuracy: 0.4688\n",
      "Epoch 2/50\n",
      "15/15 [==============================] - 0s 6ms/step - loss: 0.7009 - accuracy: 0.5086 - val_loss: 0.6797 - val_accuracy: 0.6062\n",
      "Epoch 3/50\n",
      "15/15 [==============================] - 0s 7ms/step - loss: 0.6511 - accuracy: 0.6394 - val_loss: 0.6289 - val_accuracy: 0.7063\n",
      "Epoch 4/50\n",
      "15/15 [==============================] - 0s 6ms/step - loss: 0.6087 - accuracy: 0.7461 - val_loss: 0.5912 - val_accuracy: 0.7688\n",
      "Epoch 5/50\n",
      "15/15 [==============================] - 0s 6ms/step - loss: 0.5697 - accuracy: 0.8118 - val_loss: 0.5534 - val_accuracy: 0.8375\n",
      "Epoch 6/50\n",
      "15/15 [==============================] - 0s 6ms/step - loss: 0.5244 - accuracy: 0.8499 - val_loss: 0.5148 - val_accuracy: 0.8687\n",
      "Epoch 7/50\n",
      "15/15 [==============================] - 0s 6ms/step - loss: 0.4888 - accuracy: 0.8763 - val_loss: 0.4761 - val_accuracy: 0.8813\n",
      "Epoch 8/50\n",
      "15/15 [==============================] - 0s 6ms/step - loss: 0.4496 - accuracy: 0.8954 - val_loss: 0.4403 - val_accuracy: 0.9000\n",
      "Epoch 9/50\n",
      "15/15 [==============================] - 0s 6ms/step - loss: 0.4210 - accuracy: 0.8931 - val_loss: 0.4066 - val_accuracy: 0.9125\n",
      "Epoch 10/50\n",
      "15/15 [==============================] - 0s 7ms/step - loss: 0.3925 - accuracy: 0.9080 - val_loss: 0.3744 - val_accuracy: 0.9312\n",
      "Epoch 11/50\n",
      "15/15 [==============================] - 0s 12ms/step - loss: 0.3469 - accuracy: 0.9260 - val_loss: 0.3400 - val_accuracy: 0.9375\n",
      "Epoch 12/50\n",
      "15/15 [==============================] - 0s 8ms/step - loss: 0.3251 - accuracy: 0.9265 - val_loss: 0.3154 - val_accuracy: 0.9500\n",
      "Epoch 13/50\n",
      "15/15 [==============================] - 0s 6ms/step - loss: 0.3043 - accuracy: 0.9227 - val_loss: 0.2892 - val_accuracy: 0.9438\n",
      "Epoch 14/50\n",
      "15/15 [==============================] - 0s 7ms/step - loss: 0.2805 - accuracy: 0.9284 - val_loss: 0.2665 - val_accuracy: 0.9438\n",
      "Epoch 15/50\n",
      "15/15 [==============================] - 0s 7ms/step - loss: 0.2583 - accuracy: 0.9430 - val_loss: 0.2480 - val_accuracy: 0.9438\n",
      "Epoch 16/50\n",
      "15/15 [==============================] - 0s 7ms/step - loss: 0.2375 - accuracy: 0.9435 - val_loss: 0.2314 - val_accuracy: 0.9438\n",
      "Epoch 17/50\n",
      "15/15 [==============================] - 0s 14ms/step - loss: 0.2203 - accuracy: 0.9427 - val_loss: 0.2156 - val_accuracy: 0.9375\n",
      "Epoch 18/50\n",
      "15/15 [==============================] - 0s 7ms/step - loss: 0.2076 - accuracy: 0.9519 - val_loss: 0.2041 - val_accuracy: 0.9438\n",
      "Epoch 19/50\n",
      "15/15 [==============================] - 0s 12ms/step - loss: 0.1886 - accuracy: 0.9553 - val_loss: 0.1912 - val_accuracy: 0.9375\n",
      "Epoch 20/50\n",
      "15/15 [==============================] - 0s 17ms/step - loss: 0.1772 - accuracy: 0.9535 - val_loss: 0.1830 - val_accuracy: 0.9375\n",
      "Epoch 21/50\n",
      "15/15 [==============================] - 0s 15ms/step - loss: 0.1702 - accuracy: 0.9617 - val_loss: 0.1734 - val_accuracy: 0.9438\n",
      "Epoch 22/50\n",
      "15/15 [==============================] - 0s 11ms/step - loss: 0.1657 - accuracy: 0.9558 - val_loss: 0.1662 - val_accuracy: 0.9500\n",
      "Epoch 23/50\n",
      "15/15 [==============================] - 0s 11ms/step - loss: 0.1528 - accuracy: 0.9649 - val_loss: 0.1597 - val_accuracy: 0.9625\n",
      "Epoch 24/50\n",
      "15/15 [==============================] - 0s 8ms/step - loss: 0.1650 - accuracy: 0.9474 - val_loss: 0.1539 - val_accuracy: 0.9625\n",
      "Epoch 25/50\n",
      "15/15 [==============================] - 0s 6ms/step - loss: 0.1512 - accuracy: 0.9587 - val_loss: 0.1494 - val_accuracy: 0.9625\n",
      "Epoch 26/50\n",
      "15/15 [==============================] - 0s 8ms/step - loss: 0.1399 - accuracy: 0.9582 - val_loss: 0.1444 - val_accuracy: 0.9688\n",
      "Epoch 27/50\n",
      "15/15 [==============================] - 0s 7ms/step - loss: 0.1312 - accuracy: 0.9646 - val_loss: 0.1409 - val_accuracy: 0.9625\n",
      "Epoch 28/50\n",
      "15/15 [==============================] - 0s 9ms/step - loss: 0.1265 - accuracy: 0.9642 - val_loss: 0.1374 - val_accuracy: 0.9688\n",
      "Epoch 29/50\n",
      "15/15 [==============================] - 0s 6ms/step - loss: 0.1310 - accuracy: 0.9610 - val_loss: 0.1340 - val_accuracy: 0.9688\n",
      "Epoch 30/50\n",
      "15/15 [==============================] - 0s 6ms/step - loss: 0.1264 - accuracy: 0.9614 - val_loss: 0.1310 - val_accuracy: 0.9688\n",
      "Epoch 31/50\n",
      "15/15 [==============================] - 0s 8ms/step - loss: 0.1320 - accuracy: 0.9627 - val_loss: 0.1281 - val_accuracy: 0.9688\n",
      "Epoch 32/50\n",
      "15/15 [==============================] - 0s 7ms/step - loss: 0.1134 - accuracy: 0.9700 - val_loss: 0.1255 - val_accuracy: 0.9688\n",
      "Epoch 33/50\n",
      "15/15 [==============================] - 0s 7ms/step - loss: 0.1106 - accuracy: 0.9692 - val_loss: 0.1230 - val_accuracy: 0.9750\n",
      "Epoch 34/50\n",
      "15/15 [==============================] - 0s 6ms/step - loss: 0.1101 - accuracy: 0.9726 - val_loss: 0.1209 - val_accuracy: 0.9750\n",
      "Epoch 35/50\n",
      "15/15 [==============================] - 0s 7ms/step - loss: 0.1020 - accuracy: 0.9722 - val_loss: 0.1193 - val_accuracy: 0.9750\n",
      "Epoch 36/50\n",
      "15/15 [==============================] - 0s 7ms/step - loss: 0.1161 - accuracy: 0.9638 - val_loss: 0.1172 - val_accuracy: 0.9750\n",
      "Epoch 37/50\n",
      "15/15 [==============================] - 0s 6ms/step - loss: 0.1090 - accuracy: 0.9644 - val_loss: 0.1153 - val_accuracy: 0.9750\n",
      "Epoch 38/50\n",
      "15/15 [==============================] - 0s 7ms/step - loss: 0.1055 - accuracy: 0.9629 - val_loss: 0.1133 - val_accuracy: 0.9750\n",
      "Epoch 39/50\n",
      "15/15 [==============================] - 0s 8ms/step - loss: 0.1047 - accuracy: 0.9687 - val_loss: 0.1119 - val_accuracy: 0.9750\n",
      "Epoch 40/50\n",
      "15/15 [==============================] - 0s 10ms/step - loss: 0.1038 - accuracy: 0.9694 - val_loss: 0.1105 - val_accuracy: 0.9750\n",
      "Epoch 41/50\n",
      "15/15 [==============================] - 0s 11ms/step - loss: 0.0870 - accuracy: 0.9773 - val_loss: 0.1091 - val_accuracy: 0.9750\n",
      "Epoch 42/50\n",
      "15/15 [==============================] - 0s 8ms/step - loss: 0.0991 - accuracy: 0.9718 - val_loss: 0.1078 - val_accuracy: 0.9750\n",
      "Epoch 43/50\n",
      "15/15 [==============================] - 0s 7ms/step - loss: 0.0878 - accuracy: 0.9776 - val_loss: 0.1069 - val_accuracy: 0.9750\n",
      "Epoch 44/50\n",
      "15/15 [==============================] - 0s 9ms/step - loss: 0.0967 - accuracy: 0.9727 - val_loss: 0.1064 - val_accuracy: 0.9750\n",
      "Epoch 45/50\n",
      "15/15 [==============================] - 0s 7ms/step - loss: 0.0885 - accuracy: 0.9789 - val_loss: 0.1046 - val_accuracy: 0.9750\n",
      "Epoch 46/50\n",
      "15/15 [==============================] - 0s 8ms/step - loss: 0.0963 - accuracy: 0.9732 - val_loss: 0.1037 - val_accuracy: 0.9750\n",
      "Epoch 47/50\n",
      "15/15 [==============================] - 0s 7ms/step - loss: 0.0846 - accuracy: 0.9758 - val_loss: 0.1029 - val_accuracy: 0.9750\n",
      "Epoch 48/50\n",
      "15/15 [==============================] - 0s 7ms/step - loss: 0.0913 - accuracy: 0.9731 - val_loss: 0.1024 - val_accuracy: 0.9750\n",
      "Epoch 49/50\n",
      "15/15 [==============================] - 0s 6ms/step - loss: 0.0831 - accuracy: 0.9756 - val_loss: 0.1017 - val_accuracy: 0.9750\n",
      "Epoch 50/50\n",
      "15/15 [==============================] - 0s 6ms/step - loss: 0.0823 - accuracy: 0.9756 - val_loss: 0.1008 - val_accuracy: 0.9750\n"
     ]
    }
   ],
   "source": [
    "## fitting the model\n",
    "model = create_model(parameters)\n",
    "history = model.fit(\n",
    "    X_train, \n",
    "    y_train,\n",
    "    batch_size=100,\n",
    "    epochs=50,\n",
    "    validation_split=0.1\n",
    ")    "
   ]
  },
  {
   "cell_type": "code",
   "execution_count": 44,
   "metadata": {},
   "outputs": [
    {
     "name": "stdout",
     "output_type": "stream",
     "text": [
      "Model: \"sequential_8\"\n",
      "_________________________________________________________________\n",
      "Layer (type)                 Output Shape              Param #   \n",
      "=================================================================\n",
      "conv1d_8 (Conv1D)            (None, 16, 10)            210       \n",
      "_________________________________________________________________\n",
      "max_pooling1d_8 (MaxPooling1 (None, 4, 10)             0         \n",
      "_________________________________________________________________\n",
      "flatten_8 (Flatten)          (None, 40)                0         \n",
      "_________________________________________________________________\n",
      "dense_8 (Dense)              (None, 2)                 82        \n",
      "=================================================================\n",
      "Total params: 292\n",
      "Trainable params: 292\n",
      "Non-trainable params: 0\n",
      "_________________________________________________________________\n"
     ]
    }
   ],
   "source": [
    "model.summary()"
   ]
  },
  {
   "cell_type": "code",
   "execution_count": 48,
   "metadata": {},
   "outputs": [
    {
     "data": {
      "image/png": "[encoded data removed]",
      "text/plain": [
       "<Figure size 432x288 with 1 Axes>"
      ]
     },
     "metadata": {
      "needs_background": "light"
     },
     "output_type": "display_data"
    }
   ],
   "source": [
    "import matplotlib.pyplot as plt\n",
    "\n",
    "plt.figure()\n",
    "plt.plot(history.history['val_loss'])\n",
    "plt.plot(history.history['val_accuracy'])\n",
    "plt.title('valid accuracy and valid loss')\n",
    "plt.ylabel('val accuracy and val loss')\n",
    "plt.xlabel('epoch')\n",
    "plt.legend(['valid loss', 'valid accuracy'])\n",
    "plt.show()\n"
   ]
  },
  {
   "cell_type": "code",
   "execution_count": 63,
   "metadata": {},
   "outputs": [
    {
     "name": "stdout",
     "output_type": "stream",
     "text": [
      "X_test shape: (400, 20, 4)\n",
      "y_test shape: (400, 2)\n",
      "Test loss: 0.095\n",
      "Test accuracy: 0.973\n",
      "[[188   6]\n",
      " [  5 201]]\n"
     ]
    }
   ],
   "source": [
    "from sklearn.metrics import confusion_matrix\n",
    "\n",
    "print(\"X_test shape:\", X_test.shape)\n",
    "print(\"y_test shape:\", y_test.shape)\n",
    "\n",
    "score = model.evaluate(X_test, y_test, verbose=0)\n",
    "print('Test loss:', round(score[0], 3))\n",
    "print('Test accuracy:', round(score[1], 3))\n",
    "\n",
    "predictions = np.argmax(model.predict(X_test), axis=-1) \n",
    "cm = confusion_matrix(y_test[:,1], predictions)\n",
    "print(cm)"
   ]
  },
  {
   "cell_type": "markdown",
   "metadata": {},
   "source": [
    "# using hyperopt"
   ]
  },
  {
   "cell_type": "code",
   "execution_count": 29,
   "metadata": {},
   "outputs": [],
   "source": [
    "import keras\n",
    "from keras.models import Sequential\n",
    "from keras.layers import Dense, Flatten\n",
    "from keras.layers import Conv1D, MaxPooling1D\n",
    "import hyperopt as ho\n",
    "\n",
    "\n",
    "hyperparams = {'conv_width': [1], #stride\n",
    "               'conv_filters': [5, 10], # hidden units\n",
    "               'conv_layers': [2, 3], \n",
    "               'dense_layers': [1, 2],\n",
    "               'conv_dropout': [None, 0.1],\n",
    "               'dense_dropout': [None, 0.1],\n",
    "               'dense_units': [32, 64],\n",
    "               'kernel_size': [4, 5]\n",
    "              }\n",
    "\n",
    "space = {\n",
    "    'conv_width': ho.hp.choice('conv_width', [1]),\n",
    "    'conv_filters': ho.hp.choice('conv_filters', [5, 10]),\n",
    "    'conv_layers': ho.hp.choice('conv_layers', [2, 3]),\n",
    "    'dense_layers': ho.hp.choice('dense_layers', [1, 2]),\n",
    "    'conv_dropout': ho.hp.choice('conv_dropout', [None, 0.1]),\n",
    "    'dense_dropout': ho.hp.choice('dense_dropout', [None, 0.1]),\n",
    "    'dense_units': ho.hp.choice('dense_units', [32, 64]),\n",
    "    'kernel_size': ho.hp.choice('kernel_size', [4, 5]),\n",
    "}\n"
   ]
  },
  {
   "cell_type": "code",
   "execution_count": 27,
   "metadata": {},
   "outputs": [
    {
     "data": {
      "text/plain": [
       "['__add__',\n",
       " '__call__',\n",
       " '__class__',\n",
       " '__delattr__',\n",
       " '__dict__',\n",
       " '__dir__',\n",
       " '__div__',\n",
       " '__doc__',\n",
       " '__eq__',\n",
       " '__floordiv__',\n",
       " '__format__',\n",
       " '__ge__',\n",
       " '__getattribute__',\n",
       " '__getitem__',\n",
       " '__gt__',\n",
       " '__hash__',\n",
       " '__init__',\n",
       " '__init_subclass__',\n",
       " '__le__',\n",
       " '__len__',\n",
       " '__lt__',\n",
       " '__module__',\n",
       " '__mul__',\n",
       " '__ne__',\n",
       " '__neg__',\n",
       " '__new__',\n",
       " '__pow__',\n",
       " '__radd__',\n",
       " '__rdiv__',\n",
       " '__reduce__',\n",
       " '__reduce_ex__',\n",
       " '__repr__',\n",
       " '__rfloordiv__',\n",
       " '__rmul__',\n",
       " '__rpow__',\n",
       " '__rsub__',\n",
       " '__rtruediv__',\n",
       " '__setattr__',\n",
       " '__setstate__',\n",
       " '__sizeof__',\n",
       " '__str__',\n",
       " '__sub__',\n",
       " '__subclasshook__',\n",
       " '__truediv__',\n",
       " '__weakref__',\n",
       " 'arg',\n",
       " 'clone_from_inputs',\n",
       " 'define_params',\n",
       " 'eval',\n",
       " 'inputs',\n",
       " 'name',\n",
       " 'named_args',\n",
       " 'o_len',\n",
       " 'pos_args',\n",
       " 'pprint',\n",
       " 'pure',\n",
       " 'replace_input',\n",
       " 'set_kwarg']"
      ]
     },
     "execution_count": 27,
     "metadata": {},
     "output_type": "execute_result"
    }
   ],
   "source": [
    "def create_model(params):\n",
    "    model = Sequencial()\n",
    "    model.add(Convolution2D(params['conv_filters'],\n",
    "                            params['kernal_size'],\n",
    "                            stride=params['conv_width'],\n",
    "                            padding = \"valid\",\n",
    "                            data_format = \"channels_first\",\n",
    "                            input_shape = (20, 4),\n",
    "                            activation = \"relu\"\n",
    "                           ))\n",
    "    \n",
    "    if params['conv_dropout']:\n",
    "        model.add(Dropout(rate = params['conv_dropout']))\n",
    "        \n",
    "    for i in range(params['conv_layers'] - 1):\n",
    "        model.add(Convolution1D(params['conv_filters'],\n",
    "                            5, ## kernel size\n",
    "                            stride=params['conv_width'],\n",
    "                            padding = \"valid\",\n",
    "                            data_format = \"channels_first\",\n",
    "                            input_shape = (20, 4),\n",
    "                            activation = \"relu\"\n",
    "                           ))"
   ]
  },
  {
   "cell_type": "code",
   "execution_count": 49,
   "metadata": {},
   "outputs": [
    {
     "name": "stdout",
     "output_type": "stream",
     "text": [
      "0    0.1\n",
      "1    0.2\n",
      "2    1.4\n",
      "3    0.6\n",
      "4    1.1\n",
      "dtype: float64\n"
     ]
    }
   ],
   "source": [
    "from pandas import Series, DataFrame\n",
    "\n",
    "genes = Series([0.1, 0.2, 1.4, 0.6, 1.1])\n",
    "print(genes)"
   ]
  },
  {
   "cell_type": "code",
   "execution_count": 50,
   "metadata": {},
   "outputs": [
    {
     "name": "stdout",
     "output_type": "stream",
     "text": [
      "A    0.1\n",
      "B    0.2\n",
      "C    1.4\n",
      "D    0.6\n",
      "E    1.1\n",
      "dtype: float64\n"
     ]
    }
   ],
   "source": [
    "genes = Series([0.1, 0.2, 1.4, 0.6, 1.1], index=['A', 'B', 'C', 'D', 'E'])\n",
    "print(genes)"
   ]
  },
  {
   "cell_type": "code",
   "execution_count": 54,
   "metadata": {},
   "outputs": [
    {
     "name": "stdout",
     "output_type": "stream",
     "text": [
      "3\n",
      "(3, 2, 3)\n",
      "int64\n"
     ]
    }
   ],
   "source": [
    "x = np.array(\n",
    "    [[[1, 2, 3],\n",
    "      [2, 3, 4]],\n",
    "     [[5, 6, 7],\n",
    "      [8, 9, 10]],\n",
    "     [[11, 12, 13],\n",
    "      [14, 15, 16]]]\n",
    ")\n",
    "print(x.ndim)\n",
    "print(x.shape)\n",
    "print(x.dtype)"
   ]
  },
  {
   "cell_type": "code",
   "execution_count": null,
   "metadata": {},
   "outputs": [],
   "source": []
  }
 ],
 "metadata": {
  "kernelspec": {
   "display_name": "Python 3",
   "language": "python",
   "name": "python3"
  },
  "language_info": {
   "codemirror_mode": {
    "name": "ipython",
    "version": 3
   },
   "file_extension": ".py",
   "mimetype": "text/x-python",
   "name": "python",
   "nbconvert_exporter": "python",
   "pygments_lexer": "ipython3",
   "version": "3.6.9"
  }
 },
 "nbformat": 4,
 "nbformat_minor": 4
}
