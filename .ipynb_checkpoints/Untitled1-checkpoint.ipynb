{
 "cells": [
  {
   "cell_type": "code",
   "execution_count": 4,
   "metadata": {},
   "outputs": [],
   "source": [
    "import Bio\n",
    "import numpy as np"
   ]
  },
  {
   "cell_type": "code",
   "execution_count": 5,
   "metadata": {},
   "outputs": [],
   "source": [
    "x = np.array(\n",
    " [[[1, 2, 3],\n",
    " [2, 3, 4]],\n",
    " [[5, 6, 7],\n",
    " [8, 9, 10]],\n",
    " [[11, 12, 13],\n",
    " [14, 15, 16]]]\n",
    ")"
   ]
  },
  {
   "cell_type": "code",
   "execution_count": 6,
   "metadata": {},
   "outputs": [
    {
     "data": {
      "text/plain": [
       "(3, 2, 3)"
      ]
     },
     "execution_count": 6,
     "metadata": {},
     "output_type": "execute_result"
    }
   ],
   "source": [
    "x.shape"
   ]
  },
  {
   "cell_type": "code",
   "execution_count": 62,
   "metadata": {},
   "outputs": [],
   "source": [
    "my_string = \"ATACAGCGGACGTTCGAA\"\n",
    "my_array = np.array(list(my_string)) \n",
    "onehot_encode = np.zeros((len(my_array),4), dtype=int)\n",
    "base_dict = {'A':0, 'C':1, 'G':2, 'T':3}\n",
    "for i in range(len(my_array)):\n",
    " onehot_encode[i, base_dict[my_array[i]]]=1"
   ]
  },
  {
   "cell_type": "code",
   "execution_count": 66,
   "metadata": {},
   "outputs": [
    {
     "data": {
      "text/plain": [
       "[[1, 0, 0, 0],\n",
       " [0, 0, 0, 1],\n",
       " [1, 0, 0, 0],\n",
       " [0, 1, 0, 0],\n",
       " [1, 0, 0, 0],\n",
       " [0, 0, 1, 0],\n",
       " [0, 1, 0, 0],\n",
       " [0, 0, 1, 0],\n",
       " [0, 0, 1, 0],\n",
       " [1, 0, 0, 0],\n",
       " [0, 1, 0, 0],\n",
       " [0, 0, 1, 0],\n",
       " [0, 0, 0, 1],\n",
       " [0, 0, 0, 1],\n",
       " [0, 1, 0, 0],\n",
       " [0, 0, 1, 0],\n",
       " [1, 0, 0, 0],\n",
       " [1, 0, 0, 0]]"
      ]
     },
     "execution_count": 66,
     "metadata": {},
     "output_type": "execute_result"
    }
   ],
   "source": [
    "onehot_encode.tolist()"
   ]
  },
  {
   "cell_type": "code",
   "execution_count": 58,
   "metadata": {},
   "outputs": [],
   "source": [
    "from Bio import motifs\n",
    "from Bio.Seq import Seq\n",
    "instances = [Seq(\"TACAA\"), Seq(\"TACGA\"), Seq(\"TACAA\")]\n",
    "m = motifs.create(instances)\n",
    "pfm = m.counts\n",
    "pwm = m.counts.normalize(pseudocounts=0.5)"
   ]
  },
  {
   "cell_type": "code",
   "execution_count": 59,
   "metadata": {},
   "outputs": [
    {
     "data": {
      "text/plain": [
       "{'A': (0.1, 0.7, 0.1, 0.5, 0.7),\n",
       " 'C': (0.1, 0.1, 0.7, 0.1, 0.1),\n",
       " 'G': (0.1, 0.1, 0.1, 0.3, 0.1),\n",
       " 'T': (0.7, 0.1, 0.1, 0.1, 0.1)}"
      ]
     },
     "execution_count": 59,
     "metadata": {},
     "output_type": "execute_result"
    }
   ],
   "source": [
    "pwm"
   ]
  },
  {
   "cell_type": "code",
   "execution_count": 78,
   "metadata": {},
   "outputs": [
    {
     "name": "stdout",
     "output_type": "stream",
     "text": [
      "(1000, 20)\n",
      "['GATGCGGCCGGAAATTAGTC', 'AGCAGGACCGGAAAAGCAAA', 'AGCAACTCCAGATGGGGGAC', 'TGCGCTAGAGGAACGACCGT']\n"
     ]
    }
   ],
   "source": [
    "seq_length = 20\n",
    "num_sample = 1000\n",
    "motif_pwm = np.array([[10.41, 22.86, 1.92, 1.55, 98.60, 86.66],\n",
    " [68.20, 65.25, 0.50, 0.35, 0.25, 2.57],\n",
    " [17.27, 8.30, 94.77, 97.32, 0.87, 0.00],\n",
    " [4.13, 3.59, 2.81, 0.78, 0.28, 10.77]])\n",
    "pwm = np.hstack([np.ones((4,7)), motif_pwm, np.ones((4,7))])\n",
    "pos = np.array([np.random.choice(['A', 'C', 'G', 'T'],\n",
    "num_sample,\n",
    "p=pwm[:,i]/sum(pwm[:,i]))\n",
    "for i in range(seq_length)]).transpose()\n",
    "neg = np.array([np.random.choice(['A', 'C', 'G', 'T'],\n",
    "num_sample,\n",
    "p=np.array([1,1,1,1])/4)\n",
    "for i in range(seq_length)]).transpose()\n",
    "print(pos.shape)\n",
    "tmp_out = [''.join(x) for x in pos[1:5,]]\n",
    "print(tmp_out)"
   ]
  },
  {
   "cell_type": "code",
   "execution_count": 83,
   "metadata": {},
   "outputs": [
    {
     "ename": "IndentationError",
     "evalue": "expected an indented block (<ipython-input-83-f69109c26ac3>, line 10)",
     "output_type": "error",
     "traceback": [
      "\u001b[0;36m  File \u001b[0;32m\"<ipython-input-83-f69109c26ac3>\"\u001b[0;36m, line \u001b[0;32m10\u001b[0m\n\u001b[0;31m    onehot_encode_pos[i,j,base_dict[pos[i,j]]] = 1\u001b[0m\n\u001b[0m                    ^\u001b[0m\n\u001b[0;31mIndentationError\u001b[0m\u001b[0;31m:\u001b[0m expected an indented block\n"
     ]
    }
   ],
   "source": [
    "base_dict = {'A':0, 'C':1, 'G':2, 'T':3}\n",
    "onehot_encode_pos = np.zeros((num_sample, seq_length, 4))\n",
    "onehot_encode_pos_label = np.zeros((num_sample, 2), dtype=int)\n",
    "onehot_encode_pos_label[:,0] = 1\n",
    "onehot_encode_neg = np.zeros((num_sample, seq_length, 4))\n",
    "onehot_encode_neg_label = np.zeros((num_sample, 2), dtype=int)\n",
    "onehot_encode_neg_label[:,1] = 1\n",
    "for i in range(num_sample):\n",
    "    for j in range(seq_length):\n",
    "        onehot_encode_pos[i,j,base_dict[pos[i,j]]] = 1\n",
    "        onehot_encode_neg[i,j,base_dict[neg[i,j]]] = 1\n",
    "X = np.vstack((onehot_encode_pos, onehot_encode_neg))\n",
    "y = np.vstack((onehot_encode_pos_label, onehot_encode_neg_label))\n",
    "print(X.shape, y.shape)"
   ]
  },
  {
   "cell_type": "code",
   "execution_count": null,
   "metadata": {},
   "outputs": [],
   "source": []
  }
 ],
 "metadata": {
  "kernelspec": {
   "display_name": "Python 3",
   "language": "python",
   "name": "python3"
  },
  "language_info": {
   "codemirror_mode": {
    "name": "ipython",
    "version": 3
   },
   "file_extension": ".py",
   "mimetype": "text/x-python",
   "name": "python",
   "nbconvert_exporter": "python",
   "pygments_lexer": "ipython3",
   "version": "3.6.9"
  }
 },
 "nbformat": 4,
 "nbformat_minor": 4
}
